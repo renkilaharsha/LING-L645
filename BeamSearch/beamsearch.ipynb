{
 "cells": [
  {
   "cell_type": "code",
   "execution_count": 2,
   "id": "d60bbd2f",
   "metadata": {},
   "outputs": [
    {
     "name": "stdout",
     "output_type": "stream",
     "text": [
      "10 5\n",
      "0 [[3, 2, 3, 0, 3, 0, 3, 0, 3, 2], 8.047189562170502]\n",
      "1 [[3, 2, 3, 0, 3, 0, 3, 0, 3, 1], 8.27033311348471]\n",
      "2 [[3, 2, 3, 0, 3, 0, 3, 1, 3, 2], 8.27033311348471]\n"
     ]
    }
   ],
   "source": [
    "from math import log\n",
    "import numpy as np\n",
    "\n",
    "# beam search\n",
    "def beam_search_decoder(data, k):\n",
    "    sequences = [[list(), 0.0]]\n",
    "    # walk over each step in sequence\n",
    "\n",
    "    max_T, max_A = data.shape\n",
    "\n",
    "    print(max_T,max_A)\n",
    "    # Loop over time\n",
    "    for t in range(max_T):\n",
    "        all_candidates = list()\n",
    "        # expand each current candidate\n",
    "        for i in range(len(sequences)):\n",
    "            seq, score = sequences[i]\n",
    "            # Loop over possible alphabet outputs\n",
    "            for c in range(max_A - 1):\n",
    "                candidate = [seq + [c], score - log(data[t, c])]\n",
    "                all_candidates.append(candidate)\n",
    "        # order all candidates by score\n",
    "        ordered = sorted(all_candidates, key=lambda tup:tup[1])\n",
    "        # select k best\n",
    "        sequences = ordered[:k]\n",
    "    return sequences\n",
    "\n",
    "# define a sequence of 10 words (rows) over a vocab of 5 words (columns), \n",
    "# e.g.\n",
    "#      a  bites cat  dog  the\n",
    "# 1   0.1  0.2  0.3  0.4  0.5\n",
    "# 2   0.5  0.3  0.5  0.2  0.1\n",
    "# ...\n",
    "# 10  0.3  0.4  0.5  0.2  0.1 \n",
    "\n",
    "data = [[0.1, 0.2, 0.3, 0.4, 0.5],\n",
    "        [0.4, 0.3, 0.5, 0.2, 0.1],\n",
    "        [0.1, 0.2, 0.3, 0.4, 0.5],\n",
    "        [0.5, 0.4, 0.3, 0.2, 0.1],\n",
    "        [0.1, 0.2, 0.3, 0.4, 0.5],\n",
    "        [0.5, 0.4, 0.3, 0.2, 0.1],\n",
    "        [0.1, 0.2, 0.3, 0.4, 0.5],\n",
    "        [0.5, 0.4, 0.3, 0.2, 0.1],\n",
    "        [0.1, 0.2, 0.3, 0.4, 0.5],\n",
    "        [0.3, 0.4, 0.5, 0.2, 0.1]]\n",
    "\n",
    "data = np.array(data)\n",
    "\n",
    "beam_width = 3\n",
    "\n",
    "# decode sequence\n",
    "result = beam_search_decoder(data, beam_width)\n",
    "# print result\n",
    "for i, seq in enumerate(result):\n",
    "    print(i, seq)"
   ]
  },
  {
   "cell_type": "code",
   "execution_count": 3,
   "id": "27acee0d",
   "metadata": {},
   "outputs": [
    {
     "name": "stdout",
     "output_type": "stream",
     "text": [
      "10 5\n",
      "0 [[3, 2, 3, 0, 3, 0, 3, 0, 3, 2], 8.047189562170502]\n",
      "1 [[3, 2, 3, 0, 3, 0, 3, 0, 3, 1], 8.27033311348471]\n",
      "2 [[3, 2, 3, 0, 3, 0, 3, 1, 3, 2], 8.27033311348471]\n",
      "3 [[3, 2, 3, 0, 3, 1, 3, 0, 3, 2], 8.27033311348471]\n",
      "4 [[3, 2, 3, 1, 3, 0, 3, 0, 3, 2], 8.27033311348471]\n",
      "5 [[3, 0, 3, 0, 3, 0, 3, 0, 3, 2], 8.27033311348471]\n",
      "6 [[3, 2, 3, 0, 3, 0, 3, 0, 2, 2], 8.334871634622282]\n",
      "7 [[3, 2, 3, 0, 3, 0, 2, 0, 3, 2], 8.334871634622282]\n",
      "8 [[3, 2, 3, 0, 2, 0, 3, 0, 3, 2], 8.334871634622283]\n",
      "9 [[3, 2, 2, 0, 3, 0, 3, 0, 3, 2], 8.334871634622283]\n",
      "10 [[2, 2, 3, 0, 3, 0, 3, 0, 3, 2], 8.334871634622283]\n",
      "11 [[3, 2, 3, 0, 3, 0, 3, 1, 3, 1], 8.493476664798921]\n"
     ]
    }
   ],
   "source": [
    "data = np.array(data)\n",
    "\n",
    "beam_width = 12\n",
    "\n",
    "# decode sequence\n",
    "result = beam_search_decoder(data, beam_width)\n",
    "# print result\n",
    "for i, seq in enumerate(result):\n",
    "    print(i, seq)"
   ]
  },
  {
   "cell_type": "code",
   "execution_count": 4,
   "id": "41c5552b",
   "metadata": {},
   "outputs": [],
   "source": [
    "import json\n",
    "\n",
    "f = open('output.json')\n",
    "json_file = json.load(f)\n"
   ]
  },
  {
   "cell_type": "code",
   "execution_count": 5,
   "id": "3861b30a",
   "metadata": {},
   "outputs": [],
   "source": [
    "j_dict = {}\n",
    "for i in json_file:\n",
    "    j_dict[i] = json_file[i]\n",
    "    \n",
    "  \n",
    "# Closing file\n",
    "f.close()"
   ]
  },
  {
   "cell_type": "code",
   "execution_count": 6,
   "id": "e0a20e5d",
   "metadata": {},
   "outputs": [
    {
     "data": {
      "text/plain": [
       "dict_keys(['alphabet', 'logits'])"
      ]
     },
     "execution_count": 6,
     "metadata": {},
     "output_type": "execute_result"
    }
   ],
   "source": [
    "j_dict.keys()"
   ]
  },
  {
   "cell_type": "code",
   "execution_count": 7,
   "id": "9bb8a443",
   "metadata": {},
   "outputs": [
    {
     "data": {
      "text/plain": [
       "28"
      ]
     },
     "execution_count": 7,
     "metadata": {},
     "output_type": "execute_result"
    }
   ],
   "source": [
    "len(j_dict['alphabet'])"
   ]
  },
  {
   "cell_type": "code",
   "execution_count": 8,
   "id": "1d2fa9ab",
   "metadata": {},
   "outputs": [],
   "source": [
    "import numpy as np\n",
    "data = np.asarray(j_dict[\"logits\"])[:50]"
   ]
  },
  {
   "cell_type": "code",
   "execution_count": 9,
   "id": "fa94601f",
   "metadata": {},
   "outputs": [
    {
     "data": {
      "text/plain": [
       "(50, 28)"
      ]
     },
     "execution_count": 9,
     "metadata": {},
     "output_type": "execute_result"
    }
   ],
   "source": [
    "data.shape"
   ]
  },
  {
   "cell_type": "code",
   "execution_count": 10,
   "id": "ff93ef37",
   "metadata": {},
   "outputs": [
    {
     "name": "stdout",
     "output_type": "stream",
     "text": [
      "50 28\n",
      "99\n"
     ]
    }
   ],
   "source": [
    "\n",
    "beam_width = 99\n",
    "\n",
    "# decode sequence\n",
    "result = beam_search_decoder(data, beam_width)\n",
    "print(len(result))\n",
    "# print result\n",
    "#for i, seq in enumerate(result):\n",
    "    #print(i, seq)"
   ]
  },
  {
   "cell_type": "code",
   "execution_count": 11,
   "id": "66104c17",
   "metadata": {},
   "outputs": [],
   "source": [
    "def map_alphabet(seq):\n",
    "    text = \"\"\n",
    "    prev = -1\n",
    "    for words in seq[0]:\n",
    "        #print(words,prev)\n",
    "        if prev!=-1: \n",
    "            if prev!=words:\n",
    "                text = text+j_dict['alphabet'][words]\n",
    "                prev= words\n",
    "        else:\n",
    "            text = text+j_dict['alphabet'][words]\n",
    "            prev = words\n",
    "    print(text)"
   ]
  },
  {
   "cell_type": "code",
   "execution_count": 12,
   "id": "95479f59",
   "metadata": {},
   "outputs": [
    {
     "name": "stdout",
     "output_type": "stream",
     "text": [
      "50 28\n",
      "we mustsois find a newo\n",
      "we mustsos find a newo\n",
      "weu mustsois find a newo\n",
      "we mustsois find a newo\n",
      "weu mustsos find a newo\n",
      "we mustsis find a newo\n",
      "we mustsos find a newo\n",
      "we mustsois find a new o\n",
      "we mustsois foind a newo\n",
      "we mustsis find a newo\n",
      "weu mustsois find a newo\n",
      "weu mustsis find a newo\n",
      "we mustsos find a new o\n",
      "we mustsos foind a newo\n",
      "we mustsoio find a newo\n",
      "weu mustsos find a newo\n",
      "weu mustsois find a new o\n",
      "weu mustsois foind a newo\n",
      "we mustsis find a newo\n",
      "weu mustsis find a newo\n",
      "we mustsois find a new o\n",
      "we mustsois foind a newo\n",
      "we mustsoso find a newo\n",
      "weu mustsos find a new o\n",
      "weu mustsos foind a newo\n",
      "we mustsnis find a newo\n",
      "we mustsis find a newo\n",
      "we mustsis find a new o\n",
      "we mustsis foind a newo\n",
      "we mustsois find a newon\n",
      "weu mustsoio find a newo\n",
      "weu mustsis find a newo\n",
      "we mustsos find a new o\n",
      "we mustsos foind a newo\n",
      "we mustsois foind a new o\n",
      "we mustsoit find a newo\n",
      "we mustsns find a newo\n",
      "we mustsois find a newos\n",
      "we mustsoio find a newo\n",
      "we mustsis find a new o\n",
      "we mustsis foind a newo\n",
      "we mustsos find a newon\n",
      "weu mustsois find a new o\n",
      "weu mustsois foind a newo\n",
      "we mustseis find a newo\n",
      "weu mustsoso find a newo\n",
      "we mustois find a newo\n",
      "weu mustsnis find a newo\n",
      "we mustsio find a newo\n",
      "weu mustsis find a newo\n",
      "weu mustsis find a new o\n",
      "weu mustsis foind a newo\n",
      "weu mustsois find a newon\n",
      "we mustsos foind a new o\n",
      "we mustsost find a newo\n",
      "we mustsons find a newo\n",
      "we mustsos find a newos\n",
      "we mustsoso find a newo\n",
      "we mustsoio find a new o\n",
      "we mustsoio foind a newo\n",
      "weu mustsos find a new o\n",
      "we mustsis find a newo\n",
      "weu mustsos foind a newo\n",
      "we mustsnis find a newo\n",
      "we mustses find a newo\n",
      "weu mustsois foind a new o\n",
      "weu mustsoit find a newo\n",
      "we mustos find a newo\n",
      "weu mustsns find a newo\n",
      "we mustsis find a new o\n",
      "weu mustsois find a newos\n",
      "we mustsis foind a newo\n",
      "we mustsois find a newon\n",
      "we mustsiso find a newo\n",
      "weu mustsoio find a newo\n",
      "weu mustsis find a new o\n",
      "weu mustsis foind a newo\n",
      "we mustsuis find a newo\n",
      "weu mustsos find a newon\n",
      "weu mustseis find a newo\n",
      "weu mustois find a newo\n",
      "we mustsis find a newon\n",
      "weu mustsio find a newo\n",
      "we mustsois foind a new o\n",
      "we mustsoit find a newo\n",
      "we mustsoso find a new o\n",
      "we mustsoso foind a newo\n",
      "we musts find a newo\n",
      "we mustsns find a newo\n",
      "we mustsois find a newos\n",
      "weu mustsos foind a new o\n",
      "we mustsnis find a new o\n",
      "weu mustsost find a newo\n",
      "we mustsnis foind a newo\n",
      "we mustsos find a newo\n",
      "weu mustsons find a newo\n",
      "we mustsis find a new o\n",
      "weu mustsos find a newos\n",
      "we mustsis foind a newo\n"
     ]
    }
   ],
   "source": [
    "result = beam_search_decoder(data,99 )\n",
    "# print result\n",
    "viz_data = []\n",
    "for i, seq in enumerate(result):\n",
    "    #print(i, seq)\n",
    "    viz_data.append(seq[0])\n",
    "    map_alphabet(seq)"
   ]
  },
  {
   "cell_type": "code",
   "execution_count": 13,
   "id": "1647aa7b",
   "metadata": {},
   "outputs": [
    {
     "name": "stdout",
     "output_type": "stream",
     "text": [
      "[[23 23  5 ... 15 15 15]\n",
      " [23 23  5 ... 15 15 15]\n",
      " [23 23  5 ... 15 15 15]\n",
      " ...\n",
      " [23 23  5 ... 15 15 15]\n",
      " [23 23  5 ... 15 15 19]\n",
      " [23 23  5 ... 15 15 15]]\n",
      "(99, 50)\n"
     ]
    }
   ],
   "source": [
    "data = np.array(viz_data)\n",
    "print(data)\n",
    "print(data.shape)"
   ]
  },
  {
   "cell_type": "code",
   "execution_count": 14,
   "id": "8a32f148",
   "metadata": {},
   "outputs": [
    {
     "name": "stdout",
     "output_type": "stream",
     "text": [
      "{0: ' ', 1: 'a', 2: 'b', 3: 'c', 4: 'd', 5: 'e', 6: 'f', 7: 'g', 8: 'h', 9: 'i', 10: 'j', 11: 'k', 12: 'l', 13: 'm', 14: 'n', 15: 'o', 16: 'p', 17: 'q', 18: 'r', 19: 's', 20: 't', 21: 'u', 22: 'v', 23: 'w', 24: 'x', 25: 'y', 26: 'z', 27: \"'\"}\n"
     ]
    }
   ],
   "source": [
    "map_dict={}\n",
    "for i ,j in enumerate(j_dict['alphabet']):\n",
    "    map_dict[i] = j\n",
    "print(map_dict)"
   ]
  },
  {
   "cell_type": "code",
   "execution_count": 15,
   "id": "c4c9f252",
   "metadata": {},
   "outputs": [],
   "source": [
    "viz_data = np.zeros((28,50))"
   ]
  },
  {
   "cell_type": "code",
   "execution_count": 16,
   "id": "3eed7987",
   "metadata": {},
   "outputs": [],
   "source": [
    "for i in range(len(data[0])):\n",
    "    for j in range(len(data)):\n",
    "        viz_data[data[j,i],i]+=1\n",
    "        "
   ]
  },
  {
   "cell_type": "markdown",
   "id": "26694e14",
   "metadata": {},
   "source": [
    "# For visualization is data is reduced to 50 points"
   ]
  },
  {
   "cell_type": "code",
   "execution_count": 17,
   "id": "564920ce",
   "metadata": {},
   "outputs": [
    {
     "data": {
      "image/png": "[encoded data removed]",
      "text/plain": [
       "<Figure size 2000x3000 with 2 Axes>"
      ]
     },
     "metadata": {},
     "output_type": "display_data"
    }
   ],
   "source": [
    "import seaborn as sns\n",
    "import matplotlib.pyplot as plt\n",
    "\n",
    "plt.figure(figsize=(20, 30))\n",
    "sns.heatmap(viz_data, annot=True, cmap=\"YlOrBr\")\n",
    "plt.yticks(np.arange(len(j_dict['alphabet']))+0.5, j_dict['alphabet']);"
   ]
  },
  {
   "cell_type": "code",
   "execution_count": 17,
   "id": "26cbaaa1",
   "metadata": {},
   "outputs": [
    {
     "data": {
      "image/png": "[encoded data removed]",
      "text/plain": [
       "<Figure size 640x480 with 1 Axes>"
      ]
     },
     "metadata": {},
     "output_type": "display_data"
    }
   ],
   "source": [
    "plt.imshow(viz_data, interpolation='nearest')\n",
    "plt.show()"
   ]
  },
  {
   "cell_type": "code",
   "execution_count": 1,
   "id": "3831e8ed",
   "metadata": {},
   "outputs": [
    {
     "name": "stdout",
     "output_type": "stream",
     "text": [
      "Score 97.032\n"
     ]
    }
   ],
   "source": [
    "import numpy as np\n",
    "import math\n",
    "import collections\n",
    "\n",
    "NEG_INF = -float(\"inf\")\n",
    "\n",
    "def make_new_beam():\n",
    "  fn = lambda : (NEG_INF, NEG_INF)\n",
    "  return collections.defaultdict(fn)\n",
    "\n",
    "def logsumexp(*args):\n",
    "  \"\"\"\n",
    "  Stable log sum exp.\n",
    "  \"\"\"\n",
    "  if all(a == NEG_INF for a in args):\n",
    "      return NEG_INF\n",
    "  a_max = max(args)\n",
    "  lsp = math.log(sum(math.exp(a - a_max)\n",
    "                      for a in args))\n",
    "  return a_max + lsp\n",
    "\n",
    "def decode(probs, beam_size=100, blank=0):\n",
    "  \"\"\"\n",
    "  Performs inference for the given output probabilities.\n",
    "\n",
    "  Arguments:\n",
    "      probs: The output probabilities (e.g. post-softmax) for each\n",
    "        time step. Should be an array of shape (time x output dim).\n",
    "      beam_size (int): Size of the beam to use during inference.\n",
    "      blank (int): Index of the CTC blank label.\n",
    "\n",
    "  Returns the output label sequence and the corresponding negative\n",
    "  log-likelihood estimated by the decoder.\n",
    "  \"\"\"\n",
    "  T, S = probs.shape\n",
    "  probs = np.log(probs)\n",
    "\n",
    "  # Elements in the beam are (prefix, (p_blank, p_no_blank))\n",
    "  # Initialize the beam with the empty sequence, a probability of\n",
    "  # 1 for ending in blank and zero for ending in non-blank\n",
    "  # (in log space).\n",
    "  beam = [(tuple(), (0.0, NEG_INF))]\n",
    "\n",
    "  for t in range(T): # Loop over time\n",
    "\n",
    "    # A default dictionary to store the next step candidates.\n",
    "    next_beam = make_new_beam()\n",
    "\n",
    "    for s in range(S): # Loop over vocab\n",
    "      p = probs[t, s]\n",
    "\n",
    "      # The variables p_b and p_nb are respectively the\n",
    "      # probabilities for the prefix given that it ends in a\n",
    "      # blank and does not end in a blank at this time step.\n",
    "      for prefix, (p_b, p_nb) in beam: # Loop over beam\n",
    "\n",
    "        # If we propose a blank the prefix doesn't change.\n",
    "        # Only the probability of ending in blank gets updated.\n",
    "        if s == blank:\n",
    "          n_p_b, n_p_nb = next_beam[prefix]\n",
    "          n_p_b = logsumexp(n_p_b, p_b + p, p_nb + p)\n",
    "          next_beam[prefix] = (n_p_b, n_p_nb)\n",
    "          continue\n",
    "\n",
    "        # Extend the prefix by the new character s and add it to\n",
    "        # the beam. Only the probability of not ending in blank\n",
    "        # gets updated.\n",
    "        end_t = prefix[-1] if prefix else None\n",
    "        n_prefix = prefix + (s,)\n",
    "        n_p_b, n_p_nb = next_beam[n_prefix]\n",
    "        if s != end_t:\n",
    "          n_p_nb = logsumexp(n_p_nb, p_b + p, p_nb + p)\n",
    "        else:\n",
    "          # We don't include the previous probability of not ending\n",
    "          # in blank (p_nb) if s is repeated at the end. The CTC\n",
    "          # algorithm merges characters not separated by a blank.\n",
    "          n_p_nb = logsumexp(n_p_nb, p_b + p)\n",
    "          \n",
    "        # *NB* this would be a good place to include an LM score.\n",
    "        next_beam[n_prefix] = (n_p_b, n_p_nb)\n",
    "\n",
    "        # If s is repeated at the end we also update the unchanged\n",
    "        # prefix. This is the merging case.\n",
    "        if s == end_t:\n",
    "          n_p_b, n_p_nb = next_beam[prefix]\n",
    "          n_p_nb = logsumexp(n_p_nb, p_nb + p)\n",
    "          next_beam[prefix] = (n_p_b, n_p_nb)\n",
    "\n",
    "    # Sort and trim the beam before moving on to the\n",
    "    # next time-step.\n",
    "    beam = sorted(next_beam.items(),\n",
    "            key=lambda x : logsumexp(*x[1]),\n",
    "            reverse=True)\n",
    "    beam = beam[:beam_size]\n",
    "\n",
    "  best = beam[0]\n",
    "  return best[0], -logsumexp(*best[1])\n",
    "\n",
    "if __name__ == \"__main__\":\n",
    "  np.random.seed(3)\n",
    "\n",
    "  time = 50\n",
    "  output_dim = 20\n",
    "\n",
    "  probs = np.random.rand(time, output_dim)\n",
    "  probs = probs / np.sum(probs, axis=1, keepdims=True)\n",
    "\n",
    "  labels, score = decode(probs)\n",
    "  print(\"Score {:.3f}\".format(score))"
   ]
  },
  {
   "cell_type": "code",
   "execution_count": null,
   "id": "03fc35b8",
   "metadata": {},
   "outputs": [],
   "source": []
  }
 ],
 "metadata": {
  "kernelspec": {
   "display_name": "Python 3 (ipykernel)",
   "language": "python",
   "name": "python3"
  },
  "language_info": {
   "codemirror_mode": {
    "name": "ipython",
    "version": 3
   },
   "file_extension": ".py",
   "mimetype": "text/x-python",
   "name": "python",
   "nbconvert_exporter": "python",
   "pygments_lexer": "ipython3",
   "version": "3.9.12"
  }
 },
 "nbformat": 4,
 "nbformat_minor": 5
}
